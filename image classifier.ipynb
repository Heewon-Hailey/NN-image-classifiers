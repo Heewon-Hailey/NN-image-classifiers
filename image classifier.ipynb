{
 "cells": [
  {
   "cell_type": "code",
   "execution_count": 1,
   "id": "8a2499ca",
   "metadata": {
    "scrolled": true
   },
   "outputs": [
    {
     "name": "stdout",
     "output_type": "stream",
     "text": [
      "train_images shape: (250, 32, 32, 3)\n",
      "train_labels shape: (250, 1)\n",
      "test_images shape: (200, 32, 32, 3)\n",
      "test_labels shape: (200, 1)\n"
     ]
    }
   ],
   "source": [
    "# subsample images from cifar10\n",
    "\n",
    "import tensorflow as tf\n",
    "from tensorflow import keras\n",
    "from tensorflow.keras import layers\n",
    "\n",
    "import numpy as np\n",
    "import matplotlib.pyplot as plt\n",
    "\n",
    "from scipy import ndimage \n",
    "\n",
    "(train_images, train_labels), (test_images, test_labels) = keras.datasets.cifar10.load_data()\n",
    "\n",
    "train_images_sub=np.zeros([250,32,32,3])\n",
    "train_labels_sub=np.zeros([250,1])\n",
    "\n",
    "test_images_sub=np.zeros([200,32,32,3])\n",
    "test_labels_sub=np.zeros([200,1])\n",
    "\n",
    "for clsi in range (10):\n",
    "    idx=train_labels==clsi\n",
    "    idx=np.squeeze(idx)\n",
    "    imgs = train_images[idx,:,:,:]\n",
    "    imgs = imgs[::200,:,:,:]\n",
    "    train_images_sub[25*clsi:(clsi+1)*25,:,:,:] = imgs\n",
    "    train_labels_sub[25*clsi:(clsi+1)*25,:] = clsi\n",
    "    \n",
    "    idx=test_labels==clsi\n",
    "    idx=np.squeeze(idx)\n",
    "    imgs = test_images[idx,:,:,:]\n",
    "    imgs = imgs[::50,:,:,:]\n",
    "    test_images_sub[20*clsi:(clsi+1)*20,:,:,:]=imgs\n",
    "    test_labels_sub[20*clsi:(clsi+1)*20,:] = clsi\n",
    "    \n",
    "\n",
    "print(\"train_images shape:\", train_images_sub.shape)\n",
    "print(\"train_labels shape:\", train_labels_sub.shape)\n",
    "print(\"test_images shape:\", test_images_sub.shape)\n",
    "print(\"test_labels shape:\", test_labels_sub.shape)\n",
    "\n"
   ]
  },
  {
   "cell_type": "markdown",
   "id": "707a6b45",
   "metadata": {},
   "source": [
    "# CNN model\n"
   ]
  },
  {
   "cell_type": "code",
   "execution_count": 2,
   "id": "17b87fa7",
   "metadata": {},
   "outputs": [],
   "source": [
    "# load libraries\n",
    "from tensorflow.keras.layers import Input, Dense, Conv2D, MaxPooling2D,Flatten, Concatenate\n"
   ]
  },
  {
   "cell_type": "code",
   "execution_count": 3,
   "id": "50c4d9e1",
   "metadata": {},
   "outputs": [],
   "source": [
    "# build the cnn model\n",
    "\n",
    "# module1\n",
    "class Module1(tf.keras.Model):\n",
    "    def __init__(self):\n",
    "        super(Module1, self).__init__()\n",
    "        self.conv2 = Conv2D(32, (1, 1), padding = \"same\", activation=\"relu\")\n",
    "        self.conv3 = Conv2D(32, (1, 1), padding = \"same\", activation=\"relu\")\n",
    "        self.conv4 = Conv2D(64, (3, 3), padding = \"same\", activation=\"relu\")\n",
    "        self.poo11 = MaxPooling2D((3, 3), strides = (1,1), padding = \"same\")\n",
    "        self.conv5 = Conv2D(32, (1, 1), padding = \"same\", activation=\"relu\")\n",
    "        self.concat1 = Concatenate()\n",
    "        \n",
    "    def call(self, inp):\n",
    "        conv2 = self.conv2(inp)\n",
    "        conv3 = self.conv3(inp)\n",
    "        conv4 = self.conv4(conv3)\n",
    "        poo11 = self.poo11(inp)\n",
    "        conv5 = self.conv5(poo11)\n",
    "        concat1 = self.concat1([conv2, conv4, conv5])\n",
    "        return concat1\n",
    "        \n",
    "# module2\n",
    "class Module2(tf.keras.Model):\n",
    "    def __init__(self):\n",
    "        super(Module2, self).__init__()\n",
    "        self.conv6 = Conv2D(64, (1, 1), padding = \"same\", activation=\"relu\")\n",
    "        self.conv7 = Conv2D(64, (1, 1), padding = \"same\", activation=\"relu\")\n",
    "        self.conv8 = Conv2D(128, (3, 3), padding = \"same\", activation=\"relu\")\n",
    "        self.pool2 = MaxPooling2D((3, 3), strides = (1,1), padding = \"same\")\n",
    "        self.conv9 = Conv2D(64, (1, 1), padding = \"same\", activation=\"relu\")\n",
    "        self.concat2 = Concatenate()\n",
    "        \n",
    "    def call(self, inp):\n",
    "        conv6 = self.conv6(inp)\n",
    "        conv7 = self.conv7(inp)\n",
    "        conv8 = self.conv8(conv7)\n",
    "        pool2 = self.pool2(inp)\n",
    "        conv9 = self.conv9(pool2)\n",
    "        concat2 = self.concat2([conv6, conv8, conv9])\n",
    "        return concat2\n",
    "    \n",
    "                        \n",
    "# cnn model \n",
    "class CNN(tf.keras.Model):\n",
    "    def __init__(self):\n",
    "        super(CNN, self).__init__()\n",
    "        self.conv1 = Conv2D(32, (5, 5), activation=\"relu\")\n",
    "        self.module1 = Module1()\n",
    "        self.module2 = Module2()\n",
    "        self.pool3 = MaxPooling2D((2, 2), strides = (2,2), padding = \"same\")\n",
    "        self.flat1 = Flatten()\n",
    "        self.fc1 = Dense(256, activation=\"relu\")\n",
    "        self.fc2 = Dense(10, activation=\"softmax\")\n",
    "        \n",
    "    def call(self, inp):\n",
    "        conv1 = self.conv1(inp)\n",
    "        module1 = self.module1(conv1)\n",
    "        module2 = self.module2(module1)\n",
    "        pool3 = self.pool3(module2)\n",
    "        flat1 = self.flat1(pool3)\n",
    "        fc1 = self.fc1(flat1)  \n",
    "        fc2 = self.fc2(fc1)       \n",
    "        \n",
    "        return fc2\n"
   ]
  },
  {
   "cell_type": "code",
   "execution_count": 4,
   "id": "3a5d1154",
   "metadata": {},
   "outputs": [
    {
     "name": "stdout",
     "output_type": "stream",
     "text": [
      "Model: \"cnn\"\n",
      "_________________________________________________________________\n",
      "Layer (type)                 Output Shape              Param #   \n",
      "=================================================================\n",
      "conv2d (Conv2D)              multiple                  2432      \n",
      "_________________________________________________________________\n",
      "module1 (Module1)            multiple                  21664     \n",
      "_________________________________________________________________\n",
      "module2 (Module2)            multiple                  98624     \n",
      "_________________________________________________________________\n",
      "max_pooling2d_2 (MaxPooling2 multiple                  0         \n",
      "_________________________________________________________________\n",
      "flatten (Flatten)            multiple                  0         \n",
      "_________________________________________________________________\n",
      "dense (Dense)                multiple                  12845312  \n",
      "_________________________________________________________________\n",
      "dense_1 (Dense)              multiple                  2570      \n",
      "=================================================================\n",
      "Total params: 12,970,602\n",
      "Trainable params: 12,970,602\n",
      "Non-trainable params: 0\n",
      "_________________________________________________________________\n"
     ]
    }
   ],
   "source": [
    "# build cnn model and check the architecture\n",
    "cnn = CNN()\n",
    "cnn.build(input_shape = (None, 32, 32, 3))\n",
    "cnn.summary()"
   ]
  },
  {
   "cell_type": "code",
   "execution_count": 15,
   "id": "88f5cada",
   "metadata": {},
   "outputs": [],
   "source": [
    "# compile model \n",
    "# for loss function, we use SparseCategoricalCrossentropy because labels are integers\n",
    "cnn.compile(optimizer = keras.optimizers.Adam(learning_rate = 0.001), \n",
    "            loss= tf.keras.losses.SparseCategoricalCrossentropy(from_logits=False),\n",
    "            metrics = ['accuracy'])\n"
   ]
  },
  {
   "cell_type": "code",
   "execution_count": 16,
   "id": "9ffc7a38",
   "metadata": {
    "scrolled": true
   },
   "outputs": [
    {
     "name": "stdout",
     "output_type": "stream",
     "text": [
      "Epoch 1/20\n",
      "8/8 [==============================] - 3s 337ms/step - loss: 689.0734 - accuracy: 0.0800 - val_loss: 287.2151 - val_accuracy: 0.1000\n",
      "Epoch 2/20\n",
      "8/8 [==============================] - 2s 292ms/step - loss: 132.0087 - accuracy: 0.1280 - val_loss: 31.7758 - val_accuracy: 0.1100\n",
      "Epoch 3/20\n",
      "8/8 [==============================] - 2s 303ms/step - loss: 12.3546 - accuracy: 0.1960 - val_loss: 7.1234 - val_accuracy: 0.1350\n",
      "Epoch 4/20\n",
      "8/8 [==============================] - 2s 289ms/step - loss: 4.3008 - accuracy: 0.1880 - val_loss: 3.2246 - val_accuracy: 0.1200\n",
      "Epoch 5/20\n",
      "8/8 [==============================] - 2s 293ms/step - loss: 1.9813 - accuracy: 0.3840 - val_loss: 2.7135 - val_accuracy: 0.1850\n",
      "Epoch 6/20\n",
      "8/8 [==============================] - 2s 287ms/step - loss: 1.4428 - accuracy: 0.5440 - val_loss: 2.3725 - val_accuracy: 0.2400\n",
      "Epoch 7/20\n",
      "8/8 [==============================] - 2s 290ms/step - loss: 0.9176 - accuracy: 0.7600 - val_loss: 2.4415 - val_accuracy: 0.2450\n",
      "Epoch 8/20\n",
      "8/8 [==============================] - 2s 300ms/step - loss: 0.5683 - accuracy: 0.8760 - val_loss: 2.7234 - val_accuracy: 0.2550\n",
      "Epoch 9/20\n",
      "8/8 [==============================] - 2s 306ms/step - loss: 0.3422 - accuracy: 0.9400 - val_loss: 2.6098 - val_accuracy: 0.2700\n",
      "Epoch 10/20\n",
      "8/8 [==============================] - 2s 297ms/step - loss: 0.1749 - accuracy: 0.9840 - val_loss: 2.7103 - val_accuracy: 0.3150\n",
      "Epoch 11/20\n",
      "8/8 [==============================] - 2s 300ms/step - loss: 0.0866 - accuracy: 0.9960 - val_loss: 2.9101 - val_accuracy: 0.2900\n",
      "Epoch 12/20\n",
      "8/8 [==============================] - 2s 300ms/step - loss: 0.0398 - accuracy: 1.0000 - val_loss: 3.1295 - val_accuracy: 0.2800\n",
      "Epoch 13/20\n",
      "8/8 [==============================] - 2s 295ms/step - loss: 0.0204 - accuracy: 1.0000 - val_loss: 3.3305 - val_accuracy: 0.2950\n",
      "Epoch 14/20\n",
      "8/8 [==============================] - 2s 305ms/step - loss: 0.0108 - accuracy: 1.0000 - val_loss: 3.4382 - val_accuracy: 0.3000\n",
      "Epoch 15/20\n",
      "8/8 [==============================] - 2s 284ms/step - loss: 0.0068 - accuracy: 1.0000 - val_loss: 3.5641 - val_accuracy: 0.2950\n",
      "Epoch 16/20\n",
      "8/8 [==============================] - 2s 289ms/step - loss: 0.0046 - accuracy: 1.0000 - val_loss: 3.6834 - val_accuracy: 0.2700\n",
      "Epoch 17/20\n",
      "8/8 [==============================] - 2s 304ms/step - loss: 0.0035 - accuracy: 1.0000 - val_loss: 3.7220 - val_accuracy: 0.2800\n",
      "Epoch 18/20\n",
      "8/8 [==============================] - 2s 312ms/step - loss: 0.0028 - accuracy: 1.0000 - val_loss: 3.7679 - val_accuracy: 0.2850\n",
      "Epoch 19/20\n",
      "8/8 [==============================] - 2s 284ms/step - loss: 0.0023 - accuracy: 1.0000 - val_loss: 3.8538 - val_accuracy: 0.2800\n",
      "Epoch 20/20\n",
      "8/8 [==============================] - 2s 290ms/step - loss: 0.0019 - accuracy: 1.0000 - val_loss: 3.9104 - val_accuracy: 0.2800\n"
     ]
    }
   ],
   "source": [
    "# training\n",
    "history_cnn = cnn.fit(train_images_sub, train_labels_sub, epochs = 20, batch_size = 32,\n",
    "                    validation_data = (test_images_sub, test_labels_sub ))"
   ]
  },
  {
   "cell_type": "code",
   "execution_count": 17,
   "id": "310db416",
   "metadata": {},
   "outputs": [
    {
     "name": "stdout",
     "output_type": "stream",
     "text": [
      "Populating the interactive namespace from numpy and matplotlib\n"
     ]
    },
    {
     "data": {
      "image/png": "[encoded data removed]",
      "text/plain": [
       "<Figure size 432x288 with 1 Axes>"
      ]
     },
     "metadata": {
      "needs_background": "light"
     },
     "output_type": "display_data"
    }
   ],
   "source": [
    "# plot learning curve\n",
    "%pylab inline \n",
    "\n",
    "epochs = range(1,21,1)\n",
    "plt.plot(epochs, history_cnn.history['accuracy'], label = 'Train', color = 'blue')\n",
    "plt.plot(epochs, history_cnn.history['val_accuracy'], label = 'Test', color = 'red')\n",
    "plt.ylabel('Accuracy')\n",
    "plt.xlabel('Epoch')\n",
    "plt.xticks(epochs)\n",
    "plt.title('Training and testing accuracy over epoch')\n",
    "plt.legend()\n",
    "plt.savefig('cnn.png',  dpi = 300)\n",
    "plt.show()\n"
   ]
  },
  {
   "cell_type": "markdown",
   "id": "4d8b1ae0",
   "metadata": {},
   "source": [
    "# MLP model"
   ]
  },
  {
   "cell_type": "code",
   "execution_count": 18,
   "id": "646a872c",
   "metadata": {
    "scrolled": true
   },
   "outputs": [
    {
     "name": "stdout",
     "output_type": "stream",
     "text": [
      "WARNING:tensorflow:Please add `keras.layers.InputLayer` instead of `keras.Input` to Sequential model. `keras.Input` is intended to be used by Functional model.\n"
     ]
    }
   ],
   "source": [
    "# build the mlp model\n",
    "mlp = keras.Sequential(\n",
    "    [\n",
    "        Input((32, 32, 3)),\n",
    "        Flatten(),\n",
    "        Dense(256, activation = 'relu'),\n",
    "        Dense(10, activation = 'softmax')        \n",
    "    ]\n",
    ")"
   ]
  },
  {
   "cell_type": "code",
   "execution_count": 19,
   "id": "3d236266",
   "metadata": {},
   "outputs": [
    {
     "name": "stdout",
     "output_type": "stream",
     "text": [
      "Model: \"sequential\"\n",
      "_________________________________________________________________\n",
      "Layer (type)                 Output Shape              Param #   \n",
      "=================================================================\n",
      "flatten_1 (Flatten)          (None, 3072)              0         \n",
      "_________________________________________________________________\n",
      "dense_2 (Dense)              (None, 256)               786688    \n",
      "_________________________________________________________________\n",
      "dense_3 (Dense)              (None, 10)                2570      \n",
      "=================================================================\n",
      "Total params: 789,258\n",
      "Trainable params: 789,258\n",
      "Non-trainable params: 0\n",
      "_________________________________________________________________\n"
     ]
    }
   ],
   "source": [
    "mlp.summary()"
   ]
  },
  {
   "cell_type": "code",
   "execution_count": 20,
   "id": "96d61530",
   "metadata": {},
   "outputs": [],
   "source": [
    "# compile the model\n",
    "mlp.compile(optimizer = keras.optimizers.Adam(learning_rate = 0.001), \n",
    "            loss= tf.keras.losses.SparseCategoricalCrossentropy(from_logits=False),\n",
    "            metrics = ['accuracy'])"
   ]
  },
  {
   "cell_type": "code",
   "execution_count": 21,
   "id": "bf6c809f",
   "metadata": {
    "scrolled": true
   },
   "outputs": [
    {
     "name": "stdout",
     "output_type": "stream",
     "text": [
      "Epoch 1/20\n",
      "8/8 [==============================] - 0s 16ms/step - loss: 1178.1781 - accuracy: 0.1120 - val_loss: 1384.2393 - val_accuracy: 0.1000\n",
      "Epoch 2/20\n",
      "8/8 [==============================] - 0s 5ms/step - loss: 883.5045 - accuracy: 0.1040 - val_loss: 406.8145 - val_accuracy: 0.1350\n",
      "Epoch 3/20\n",
      "8/8 [==============================] - 0s 5ms/step - loss: 422.4966 - accuracy: 0.1480 - val_loss: 276.6114 - val_accuracy: 0.1450\n",
      "Epoch 4/20\n",
      "8/8 [==============================] - 0s 4ms/step - loss: 181.7305 - accuracy: 0.1720 - val_loss: 144.8133 - val_accuracy: 0.1650\n",
      "Epoch 5/20\n",
      "8/8 [==============================] - 0s 5ms/step - loss: 117.2567 - accuracy: 0.1880 - val_loss: 103.5193 - val_accuracy: 0.1600\n",
      "Epoch 6/20\n",
      "8/8 [==============================] - 0s 5ms/step - loss: 66.2331 - accuracy: 0.2120 - val_loss: 78.4029 - val_accuracy: 0.1600\n",
      "Epoch 7/20\n",
      "8/8 [==============================] - 0s 5ms/step - loss: 52.8604 - accuracy: 0.2440 - val_loss: 52.3956 - val_accuracy: 0.1200\n",
      "Epoch 8/20\n",
      "8/8 [==============================] - 0s 5ms/step - loss: 40.2529 - accuracy: 0.2480 - val_loss: 51.5992 - val_accuracy: 0.1600\n",
      "Epoch 9/20\n",
      "8/8 [==============================] - 0s 5ms/step - loss: 25.0899 - accuracy: 0.3080 - val_loss: 33.0903 - val_accuracy: 0.1550\n",
      "Epoch 10/20\n",
      "8/8 [==============================] - 0s 5ms/step - loss: 21.5425 - accuracy: 0.3840 - val_loss: 38.8684 - val_accuracy: 0.1450\n",
      "Epoch 11/20\n",
      "8/8 [==============================] - 0s 4ms/step - loss: 18.0025 - accuracy: 0.3520 - val_loss: 37.0410 - val_accuracy: 0.1750\n",
      "Epoch 12/20\n",
      "8/8 [==============================] - 0s 4ms/step - loss: 14.4487 - accuracy: 0.4080 - val_loss: 30.8925 - val_accuracy: 0.1800\n",
      "Epoch 13/20\n",
      "8/8 [==============================] - 0s 5ms/step - loss: 17.2681 - accuracy: 0.3760 - val_loss: 36.0970 - val_accuracy: 0.1800\n",
      "Epoch 14/20\n",
      "8/8 [==============================] - 0s 5ms/step - loss: 20.7206 - accuracy: 0.3960 - val_loss: 47.5747 - val_accuracy: 0.1600\n",
      "Epoch 15/20\n",
      "8/8 [==============================] - 0s 4ms/step - loss: 19.7788 - accuracy: 0.3680 - val_loss: 40.1490 - val_accuracy: 0.1200\n",
      "Epoch 16/20\n",
      "8/8 [==============================] - 0s 5ms/step - loss: 11.4780 - accuracy: 0.4840 - val_loss: 33.9679 - val_accuracy: 0.1400\n",
      "Epoch 17/20\n",
      "8/8 [==============================] - 0s 5ms/step - loss: 11.8352 - accuracy: 0.5040 - val_loss: 38.7927 - val_accuracy: 0.1250\n",
      "Epoch 18/20\n",
      "8/8 [==============================] - 0s 4ms/step - loss: 16.5993 - accuracy: 0.4280 - val_loss: 39.2372 - val_accuracy: 0.1450\n",
      "Epoch 19/20\n",
      "8/8 [==============================] - 0s 5ms/step - loss: 18.4584 - accuracy: 0.4720 - val_loss: 50.9774 - val_accuracy: 0.1650\n",
      "Epoch 20/20\n",
      "8/8 [==============================] - 0s 4ms/step - loss: 15.3941 - accuracy: 0.5160 - val_loss: 44.8476 - val_accuracy: 0.1900\n"
     ]
    }
   ],
   "source": [
    "# train the model\n",
    "history_mlp = mlp.fit(train_images_sub, train_labels_sub, epochs = 20, batch_size = 32,\n",
    "                    validation_data = (test_images_sub, test_labels_sub ))"
   ]
  },
  {
   "cell_type": "code",
   "execution_count": 22,
   "id": "5b631eca",
   "metadata": {
    "scrolled": true
   },
   "outputs": [
    {
     "data": {
      "image/png": "[encoded data removed]",
      "text/plain": [
       "<Figure size 432x288 with 1 Axes>"
      ]
     },
     "metadata": {
      "needs_background": "light"
     },
     "output_type": "display_data"
    }
   ],
   "source": [
    "# plot the learning curve\n",
    "plt.plot(epochs, history_mlp.history['accuracy'], label = 'Train', color = 'blue')\n",
    "plt.plot(epochs, history_mlp.history['val_accuracy'], label = 'Test', color = 'red')\n",
    "plt.ylabel('Accuracy')\n",
    "plt.xlabel('Epoch')\n",
    "plt.xticks(epochs)\n",
    "plt.title('Training and testing accuracy over epoch')\n",
    "plt.legend()\n",
    "plt.savefig('mlp.png',  dpi = 300)\n",
    "plt.show()"
   ]
  },
  {
   "cell_type": "markdown",
   "id": "09cfd17c",
   "metadata": {},
   "source": [
    "# Feature extraction + MLP"
   ]
  },
  {
   "cell_type": "code",
   "execution_count": 5,
   "id": "b593f3cc",
   "metadata": {
    "scrolled": true
   },
   "outputs": [
    {
     "name": "stdout",
     "output_type": "stream",
     "text": [
      "input_1\n",
      "block1_conv1\n",
      "block1_conv2\n",
      "block1_pool\n",
      "block2_conv1\n",
      "block2_conv2\n",
      "block2_pool\n",
      "block3_conv1\n",
      "block3_conv2\n",
      "block3_conv3\n",
      "block3_conv4\n",
      "block3_pool\n",
      "block4_conv1\n",
      "block4_conv2\n",
      "block4_conv3\n",
      "block4_conv4\n",
      "block4_pool\n",
      "block5_conv1\n",
      "block5_conv2\n",
      "block5_conv3\n",
      "block5_conv4\n",
      "block5_pool\n"
     ]
    }
   ],
   "source": [
    "# import model VGG19\n",
    "from tensorflow.keras.applications.vgg19 import VGG19\n",
    "from tensorflow.keras.preprocessing import image\n",
    "from tensorflow.keras.applications.vgg19 import preprocess_input as vgg_preprocess_input\n",
    "from tensorflow.keras.models import Model\n",
    "import numpy as np\n",
    "\n",
    "# set the input size to be the size of the input image \n",
    "vgg19_model = VGG19(weights='imagenet', input_shape=[32,32,3],include_top=False) \n",
    "\n",
    "for idx in range(len(vgg19_model.layers)):\n",
    "    print(vgg19_model.get_layer(index = idx).name)"
   ]
  },
  {
   "cell_type": "code",
   "execution_count": 55,
   "id": "34f0f4fc",
   "metadata": {},
   "outputs": [],
   "source": [
    "# extract features from the last conv layer 'block5_conv4'\n",
    "vgg19_model = Model(inputs=vgg19_model.input, outputs= vgg19_model.get_layer('block5_conv4').output)\n",
    "\n",
    "vgg_x_tr = vgg_preprocess_input(train_images_sub)\n",
    "vgg_x_ts = vgg_preprocess_input(test_images_sub)\n",
    "vgg_tr_features = vgg19_model.predict(vgg_x_tr)   # features for training\n",
    "vgg_ts_features = vgg19_model.predict(vgg_x_ts)   # features for test"
   ]
  },
  {
   "cell_type": "code",
   "execution_count": 60,
   "id": "b41c79e5",
   "metadata": {},
   "outputs": [
    {
     "data": {
      "text/plain": [
       "(200, 2, 2, 512)"
      ]
     },
     "execution_count": 60,
     "metadata": {},
     "output_type": "execute_result"
    }
   ],
   "source": [
    "# check the feature shape \n",
    "vgg_ts_features.shape"
   ]
  },
  {
   "cell_type": "code",
   "execution_count": 66,
   "id": "468ead74",
   "metadata": {
    "collapsed": true
   },
   "outputs": [
    {
     "name": "stdout",
     "output_type": "stream",
     "text": [
      "WARNING:tensorflow:Please add `keras.layers.InputLayer` instead of `keras.Input` to Sequential model. `keras.Input` is intended to be used by Functional model.\n"
     ]
    }
   ],
   "source": [
    "# build the mlp model with the extracted feature size\n",
    "mlp_vgg19 = keras.Sequential(\n",
    "    [\n",
    "        Input(vgg_ts_features.shape[1:]),\n",
    "        Flatten(),\n",
    "        Dense(256, activation = 'relu'),\n",
    "        Dense(10, activation = 'softmax')        \n",
    "    ]\n",
    ")"
   ]
  },
  {
   "cell_type": "code",
   "execution_count": 63,
   "id": "c276c24d",
   "metadata": {
    "scrolled": false
   },
   "outputs": [
    {
     "name": "stdout",
     "output_type": "stream",
     "text": [
      "Model: \"sequential_2\"\n",
      "_________________________________________________________________\n",
      "Layer (type)                 Output Shape              Param #   \n",
      "=================================================================\n",
      "flatten_3 (Flatten)          (None, 2048)              0         \n",
      "_________________________________________________________________\n",
      "dense_6 (Dense)              (None, 256)               524544    \n",
      "_________________________________________________________________\n",
      "dense_7 (Dense)              (None, 10)                2570      \n",
      "=================================================================\n",
      "Total params: 527,114\n",
      "Trainable params: 527,114\n",
      "Non-trainable params: 0\n",
      "_________________________________________________________________\n"
     ]
    }
   ],
   "source": [
    "mlp_vgg19.summary()"
   ]
  },
  {
   "cell_type": "code",
   "execution_count": 67,
   "id": "70ada10c",
   "metadata": {
    "scrolled": true
   },
   "outputs": [
    {
     "name": "stdout",
     "output_type": "stream",
     "text": [
      "Epoch 1/20\n",
      "8/8 [==============================] - 0s 15ms/step - loss: 11.8941 - accuracy: 0.3120 - val_loss: 14.0641 - val_accuracy: 0.3500\n",
      "Epoch 2/20\n",
      "8/8 [==============================] - 0s 4ms/step - loss: 2.0634 - accuracy: 0.8200 - val_loss: 16.0154 - val_accuracy: 0.3600\n",
      "Epoch 3/20\n",
      "8/8 [==============================] - 0s 4ms/step - loss: 0.3806 - accuracy: 0.9520 - val_loss: 16.9515 - val_accuracy: 0.3850\n",
      "Epoch 4/20\n",
      "8/8 [==============================] - 0s 4ms/step - loss: 0.0379 - accuracy: 0.9880 - val_loss: 17.6812 - val_accuracy: 0.4000\n",
      "Epoch 5/20\n",
      "8/8 [==============================] - 0s 4ms/step - loss: 0.0369 - accuracy: 0.9920 - val_loss: 17.8051 - val_accuracy: 0.4150\n",
      "Epoch 6/20\n",
      "8/8 [==============================] - 0s 4ms/step - loss: 0.0011 - accuracy: 1.0000 - val_loss: 18.0109 - val_accuracy: 0.4000\n",
      "Epoch 7/20\n",
      "8/8 [==============================] - 0s 4ms/step - loss: 0.0142 - accuracy: 0.9960 - val_loss: 17.7507 - val_accuracy: 0.4150\n",
      "Epoch 8/20\n",
      "8/8 [==============================] - 0s 4ms/step - loss: 6.1723e-05 - accuracy: 1.0000 - val_loss: 17.6217 - val_accuracy: 0.4150\n",
      "Epoch 9/20\n",
      "8/8 [==============================] - 0s 4ms/step - loss: 4.7886e-05 - accuracy: 1.0000 - val_loss: 17.6170 - val_accuracy: 0.4150\n",
      "Epoch 10/20\n",
      "8/8 [==============================] - 0s 4ms/step - loss: 4.3117e-05 - accuracy: 1.0000 - val_loss: 17.6199 - val_accuracy: 0.4200\n",
      "Epoch 11/20\n",
      "8/8 [==============================] - 0s 4ms/step - loss: 3.8239e-05 - accuracy: 1.0000 - val_loss: 17.6210 - val_accuracy: 0.4200\n",
      "Epoch 12/20\n",
      "8/8 [==============================] - 0s 4ms/step - loss: 3.6632e-05 - accuracy: 1.0000 - val_loss: 17.6201 - val_accuracy: 0.4200\n",
      "Epoch 13/20\n",
      "8/8 [==============================] - 0s 4ms/step - loss: 3.2908e-05 - accuracy: 1.0000 - val_loss: 17.6185 - val_accuracy: 0.4200\n",
      "Epoch 14/20\n",
      "8/8 [==============================] - 0s 4ms/step - loss: 2.9601e-05 - accuracy: 1.0000 - val_loss: 17.6163 - val_accuracy: 0.4200\n",
      "Epoch 15/20\n",
      "8/8 [==============================] - 0s 4ms/step - loss: 2.7280e-05 - accuracy: 1.0000 - val_loss: 17.6141 - val_accuracy: 0.4200\n",
      "Epoch 16/20\n",
      "8/8 [==============================] - 0s 4ms/step - loss: 2.5778e-05 - accuracy: 1.0000 - val_loss: 17.6112 - val_accuracy: 0.4200\n",
      "Epoch 17/20\n",
      "8/8 [==============================] - 0s 4ms/step - loss: 2.3493e-05 - accuracy: 1.0000 - val_loss: 17.6092 - val_accuracy: 0.4200\n",
      "Epoch 18/20\n",
      "8/8 [==============================] - 0s 4ms/step - loss: 2.1789e-05 - accuracy: 1.0000 - val_loss: 17.6072 - val_accuracy: 0.4200\n",
      "Epoch 19/20\n",
      "8/8 [==============================] - 0s 4ms/step - loss: 2.0719e-05 - accuracy: 1.0000 - val_loss: 17.6050 - val_accuracy: 0.4200\n",
      "Epoch 20/20\n",
      "8/8 [==============================] - 0s 4ms/step - loss: 1.9417e-05 - accuracy: 1.0000 - val_loss: 17.6029 - val_accuracy: 0.4200\n"
     ]
    }
   ],
   "source": [
    "# compile the model\n",
    "mlp_vgg19.compile(optimizer = keras.optimizers.Adam(learning_rate = 0.001), \n",
    "            loss=tf.keras.losses.SparseCategoricalCrossentropy(from_logits=False),\n",
    "            metrics = ['accuracy'])\n",
    "\n",
    "# training \n",
    "history_mlp_vgg19 = mlp_vgg19.fit(vgg_tr_features, train_labels_sub, epochs = 20, batch_size = 32,\n",
    "                    validation_data = (vgg_ts_features, test_labels_sub ))"
   ]
  },
  {
   "cell_type": "code",
   "execution_count": 68,
   "id": "7cbed588",
   "metadata": {
    "scrolled": true
   },
   "outputs": [
    {
     "data": {
      "image/png": "[encoded data removed]",
      "text/plain": [
       "<Figure size 432x288 with 1 Axes>"
      ]
     },
     "metadata": {
      "needs_background": "light"
     },
     "output_type": "display_data"
    }
   ],
   "source": [
    "# plot the learning curve\n",
    "plt.plot(epochs, history_mlp_vgg19.history['accuracy'], label = 'Train', color = 'blue')\n",
    "plt.plot(epochs, history_mlp_vgg19.history['val_accuracy'], label = 'Test', color = 'red')\n",
    "plt.ylabel('Accuracy')\n",
    "plt.xlabel('Epoch')\n",
    "plt.xticks(epochs)\n",
    "plt.title('Training and testing accuracy over epoch')\n",
    "plt.legend()\n",
    "plt.savefig('mlp_vgg19.png',  dpi = 300)\n",
    "plt.show()"
   ]
  },
  {
   "cell_type": "markdown",
   "id": "06cb61b4",
   "metadata": {},
   "source": [
    "-----\n",
    "Problem: too small extracted features \n",
    "\n",
    "\n",
    "Solution: resize the images into 224 x 224 (following)\n",
    "\n",
    "-----"
   ]
  },
  {
   "cell_type": "code",
   "execution_count": 6,
   "id": "81768158",
   "metadata": {
    "scrolled": true
   },
   "outputs": [
    {
     "name": "stdout",
     "output_type": "stream",
     "text": [
      "New image shape: (250, 224, 224, 3)\n",
      "New feature shape: (250, 14, 14, 512)\n",
      "WARNING:tensorflow:Please add `keras.layers.InputLayer` instead of `keras.Input` to Sequential model. `keras.Input` is intended to be used by Functional model.\n",
      "Epoch 1/20\n",
      "8/8 [==============================] - 1s 80ms/step - loss: 59.3316 - accuracy: 0.3320 - val_loss: 49.4504 - val_accuracy: 0.4900\n",
      "Epoch 2/20\n",
      "8/8 [==============================] - 0s 60ms/step - loss: 13.0960 - accuracy: 0.7880 - val_loss: 9.4931 - val_accuracy: 0.6100\n",
      "Epoch 3/20\n",
      "8/8 [==============================] - 0s 59ms/step - loss: 1.4045 - accuracy: 0.9200 - val_loss: 16.3450 - val_accuracy: 0.4600\n",
      "Epoch 4/20\n",
      "8/8 [==============================] - 0s 64ms/step - loss: 0.3732 - accuracy: 0.9680 - val_loss: 11.8466 - val_accuracy: 0.5200\n",
      "Epoch 5/20\n",
      "8/8 [==============================] - 0s 61ms/step - loss: 0.0662 - accuracy: 0.9840 - val_loss: 11.6587 - val_accuracy: 0.5650\n",
      "Epoch 6/20\n",
      "8/8 [==============================] - 0s 63ms/step - loss: 9.9076e-04 - accuracy: 1.0000 - val_loss: 11.2604 - val_accuracy: 0.5800\n",
      "Epoch 7/20\n",
      "8/8 [==============================] - 0s 62ms/step - loss: 2.2522e-05 - accuracy: 1.0000 - val_loss: 11.1586 - val_accuracy: 0.5650\n",
      "Epoch 8/20\n",
      "8/8 [==============================] - 0s 64ms/step - loss: 1.9213e-05 - accuracy: 1.0000 - val_loss: 11.1635 - val_accuracy: 0.5750\n",
      "Epoch 9/20\n",
      "8/8 [==============================] - 0s 62ms/step - loss: 1.2479e-05 - accuracy: 1.0000 - val_loss: 11.1747 - val_accuracy: 0.5850\n",
      "Epoch 10/20\n",
      "8/8 [==============================] - 0s 62ms/step - loss: 9.3106e-06 - accuracy: 1.0000 - val_loss: 11.1808 - val_accuracy: 0.5850\n",
      "Epoch 11/20\n",
      "8/8 [==============================] - 0s 62ms/step - loss: 7.0033e-06 - accuracy: 1.0000 - val_loss: 11.1831 - val_accuracy: 0.5850\n",
      "Epoch 12/20\n",
      "8/8 [==============================] - 0s 61ms/step - loss: 5.9216e-06 - accuracy: 1.0000 - val_loss: 11.1832 - val_accuracy: 0.5850\n",
      "Epoch 13/20\n",
      "8/8 [==============================] - 0s 60ms/step - loss: 4.7762e-06 - accuracy: 1.0000 - val_loss: 11.1830 - val_accuracy: 0.5850\n",
      "Epoch 14/20\n",
      "8/8 [==============================] - 0s 65ms/step - loss: 4.6076e-06 - accuracy: 1.0000 - val_loss: 11.1816 - val_accuracy: 0.5850\n",
      "Epoch 15/20\n",
      "8/8 [==============================] - 0s 64ms/step - loss: 3.8192e-06 - accuracy: 1.0000 - val_loss: 11.1807 - val_accuracy: 0.5850\n",
      "Epoch 16/20\n",
      "8/8 [==============================] - 0s 64ms/step - loss: 3.5229e-06 - accuracy: 1.0000 - val_loss: 11.1796 - val_accuracy: 0.5850\n",
      "Epoch 17/20\n",
      "8/8 [==============================] - 0s 64ms/step - loss: 3.1627e-06 - accuracy: 1.0000 - val_loss: 11.1787 - val_accuracy: 0.5850\n",
      "Epoch 18/20\n",
      "8/8 [==============================] - 0s 64ms/step - loss: 2.9058e-06 - accuracy: 1.0000 - val_loss: 11.1778 - val_accuracy: 0.5850\n",
      "Epoch 19/20\n",
      "8/8 [==============================] - 0s 62ms/step - loss: 2.7343e-06 - accuracy: 1.0000 - val_loss: 11.1765 - val_accuracy: 0.5850\n",
      "Epoch 20/20\n",
      "8/8 [==============================] - 1s 67ms/step - loss: 2.4960e-06 - accuracy: 1.0000 - val_loss: 11.1755 - val_accuracy: 0.5850\n"
     ]
    }
   ],
   "source": [
    "# resize the images\n",
    "new_train_images_sub = tf.image.resize(train_images_sub, (224, 224))\n",
    "new_test_images_sub = tf.image.resize(test_images_sub, (224, 224))\n",
    "# check the image size\n",
    "print('New image shape:', new_train_images_sub.shape)\n",
    "\n",
    "# get the pre_trained model with default input size 224 x 224\n",
    "vgg19_model = VGG19(weights='imagenet',include_top=False) \n",
    "vgg19_model = Model(inputs=vgg19_model.input, outputs= vgg19_model.get_layer('block5_conv4').output)\n",
    "\n",
    "# get the features\n",
    "vgg_x_tr = vgg_preprocess_input(new_train_images_sub)\n",
    "vgg_x_ts = vgg_preprocess_input(new_test_images_sub)\n",
    "vgg_tr_features = vgg19_model.predict(vgg_x_tr)   # features for training\n",
    "vgg_ts_features = vgg19_model.predict(vgg_x_ts)\n",
    "print('New feature shape:', vgg_tr_features.shape)\n",
    "\n",
    "# build a model\n",
    "mlp_vgg19 = keras.Sequential(\n",
    "    [\n",
    "        Input(vgg_ts_features.shape[1:]),\n",
    "        Flatten(),\n",
    "        Dense(256, activation = 'relu'),\n",
    "        Dense(10, activation = 'softmax')        \n",
    "    ]\n",
    ")\n",
    "\n",
    "# compile\n",
    "mlp_vgg19.compile(optimizer = keras.optimizers.Adam(learning_rate = 0.001), \n",
    "            loss=tf.keras.losses.SparseCategoricalCrossentropy(from_logits=False),\n",
    "            metrics = ['accuracy'])\n",
    "\n",
    "# train\n",
    "history_mlp_vgg19 = mlp_vgg19.fit(vgg_tr_features, train_labels_sub, epochs = 20, batch_size = 32,\n",
    "                    validation_data = (vgg_ts_features, test_labels_sub ))"
   ]
  },
  {
   "cell_type": "code",
   "execution_count": 7,
   "id": "ef623b75",
   "metadata": {},
   "outputs": [
    {
     "data": {
      "image/png": "[encoded data removed]",
      "text/plain": [
       "<Figure size 432x288 with 1 Axes>"
      ]
     },
     "metadata": {
      "needs_background": "light"
     },
     "output_type": "display_data"
    }
   ],
   "source": [
    "# plot the learning curve\n",
    "plt.plot(epochs, history_mlp_vgg19.history['accuracy'], label = 'Train', color = 'blue')\n",
    "plt.plot(epochs, history_mlp_vgg19.history['val_accuracy'], label = 'Test', color = 'red')\n",
    "plt.ylabel('Accuracy')\n",
    "plt.xlabel('Epoch')\n",
    "plt.xticks(epochs)\n",
    "plt.title('Training and testing accuracy over epoch')\n",
    "plt.legend()\n",
    "plt.savefig('mlp_vgg19_rescaled.png',  dpi = 300)\n",
    "plt.show()"
   ]
  },
  {
   "cell_type": "code",
   "execution_count": null,
   "id": "0706bfa6",
   "metadata": {},
   "outputs": [],
   "source": []
  }
 ],
 "metadata": {
  "kernelspec": {
   "display_name": "Python 3 (ipykernel)",
   "language": "python",
   "name": "python3"
  },
  "language_info": {
   "codemirror_mode": {
    "name": "ipython",
    "version": 3
   },
   "file_extension": ".py",
   "mimetype": "text/x-python",
   "name": "python",
   "nbconvert_exporter": "python",
   "pygments_lexer": "ipython3",
   "version": "3.7.11"
  }
 },
 "nbformat": 4,
 "nbformat_minor": 5
}
